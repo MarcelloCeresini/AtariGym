import gym
import collections
experience_buffer = collections.deque([])

env = gym.make("Breakout-v0")

for _ in range(int(1e6)):                           # n° of episodes
      observation, info = env.reset(seed=42, return_info=True)
      for _ in range(int(1e3)):                     # n° of frames per episode
            
            legal_action_list = env.action_space
            print(observation)
            p_obs = preprocess_observation(observation)
            max_action = max(remove_illegal_actions(model(p_obs), legal_action_list, env.name)) # env.name?? id??

            observation, reward, done, info = env.step(action)

            if done:
                observation, info = env.reset(return_info=True)
env.close()
