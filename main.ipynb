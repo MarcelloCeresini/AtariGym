{
 "cells": [
  {
   "cell_type": "code",
   "execution_count": 1,
   "metadata": {},
   "outputs": [
    {
     "name": "stderr",
     "output_type": "stream",
     "text": [
      "/home/marcello/github/AtariGym/env/lib/python3.8/site-packages/flatbuffers/compat.py:19: DeprecationWarning: the imp module is deprecated in favour of importlib; see the module's documentation for alternative uses\n",
      "  import imp\n",
      "A.L.E: Arcade Learning Environment (version 0.7.4+069f8bd)\n",
      "[Powered by Stella]\n",
      "/home/marcello/github/AtariGym/env/lib/python3.8/site-packages/gym/utils/seeding.py:138: DeprecationWarning: \u001b[33mWARN: Function `hash_seed(seed, max_bytes)` is marked as deprecated and will be removed in the future. \u001b[0m\n",
      "  deprecation(\n",
      "/home/marcello/github/AtariGym/env/lib/python3.8/site-packages/gym/utils/seeding.py:175: DeprecationWarning: \u001b[33mWARN: Function `_bigint_from_bytes(bytes)` is marked as deprecated and will be removed in the future. \u001b[0m\n",
      "  deprecation(\n",
      "2022-04-06 00:36:36.510420: I tensorflow/stream_executor/cuda/cuda_gpu_executor.cc:936] successful NUMA node read from SysFS had negative value (-1), but there must be at least one NUMA node, so returning NUMA node zero\n",
      "2022-04-06 00:36:36.538988: I tensorflow/stream_executor/cuda/cuda_gpu_executor.cc:936] successful NUMA node read from SysFS had negative value (-1), but there must be at least one NUMA node, so returning NUMA node zero\n",
      "2022-04-06 00:36:36.539883: I tensorflow/stream_executor/cuda/cuda_gpu_executor.cc:936] successful NUMA node read from SysFS had negative value (-1), but there must be at least one NUMA node, so returning NUMA node zero\n",
      "2022-04-06 00:36:36.540761: I tensorflow/core/platform/cpu_feature_guard.cc:151] This TensorFlow binary is optimized with oneAPI Deep Neural Network Library (oneDNN) to use the following CPU instructions in performance-critical operations:  AVX2 FMA\n",
      "To enable them in other operations, rebuild TensorFlow with the appropriate compiler flags.\n",
      "2022-04-06 00:36:36.542327: I tensorflow/stream_executor/cuda/cuda_gpu_executor.cc:936] successful NUMA node read from SysFS had negative value (-1), but there must be at least one NUMA node, so returning NUMA node zero\n",
      "2022-04-06 00:36:36.542652: I tensorflow/stream_executor/cuda/cuda_gpu_executor.cc:936] successful NUMA node read from SysFS had negative value (-1), but there must be at least one NUMA node, so returning NUMA node zero\n",
      "2022-04-06 00:36:36.542988: I tensorflow/stream_executor/cuda/cuda_gpu_executor.cc:936] successful NUMA node read from SysFS had negative value (-1), but there must be at least one NUMA node, so returning NUMA node zero\n",
      "2022-04-06 00:36:36.951368: I tensorflow/stream_executor/cuda/cuda_gpu_executor.cc:936] successful NUMA node read from SysFS had negative value (-1), but there must be at least one NUMA node, so returning NUMA node zero\n",
      "2022-04-06 00:36:36.951517: I tensorflow/stream_executor/cuda/cuda_gpu_executor.cc:936] successful NUMA node read from SysFS had negative value (-1), but there must be at least one NUMA node, so returning NUMA node zero\n",
      "2022-04-06 00:36:36.951709: I tensorflow/stream_executor/cuda/cuda_gpu_executor.cc:936] successful NUMA node read from SysFS had negative value (-1), but there must be at least one NUMA node, so returning NUMA node zero\n",
      "2022-04-06 00:36:36.951853: I tensorflow/core/common_runtime/gpu/gpu_device.cc:1525] Created device /job:localhost/replica:0/task:0/device:GPU:0 with 595 MB memory:  -> device: 0, name: NVIDIA GeForce RTX 2060, pci bus id: 0000:01:00.0, compute capability: 7.5\n"
     ]
    },
    {
     "name": "stdout",
     "output_type": "stream",
     "text": [
      "4012672\n"
     ]
    }
   ],
   "source": [
    "import gym\n",
    "import collections\n",
    "import numpy as np\n",
    "import tensorflow as tf\n",
    "from tensorflow.keras import layers, Model\n",
    "experience_buffer = collections.deque([])\n",
    "\n",
    "env = gym.make(\"ALE/Breakout-v5\")\n",
    "\n",
    "N_ACTIONS = env.action_space.n\n",
    "RANGE = int(env.observation_space.high_repr) - int(env.observation_space.low_repr)\n",
    "SHAPE = env.observation_space.shape\n",
    "K_FRAMES = 4\n",
    "\n",
    "model = tf.keras.applications.efficientnet.EfficientNetB0(\n",
    "    include_top=True,\n",
    "    weights=None,\n",
    "    input_shape=SHAPE,\n",
    "    classes=N_ACTIONS,\n",
    "    classifier_activation='softmax'\n",
    ")\n",
    "\n",
    "total_params = sum([np.prod(w.get_shape().as_list()) for w in model.trainable_weights])\n",
    "print(total_params)\n"
   ]
  },
  {
   "cell_type": "code",
   "execution_count": 2,
   "metadata": {},
   "outputs": [],
   "source": [
    "def preprocess_observation(obs):\n",
    "    return (obs / RANGE)"
   ]
  },
  {
   "cell_type": "code",
   "execution_count": 12,
   "metadata": {},
   "outputs": [
    {
     "name": "stderr",
     "output_type": "stream",
     "text": [
      "/home/marcello/github/AtariGym/env/lib/python3.8/site-packages/gym/utils/seeding.py:138: DeprecationWarning: \u001b[33mWARN: Function `hash_seed(seed, max_bytes)` is marked as deprecated and will be removed in the future. \u001b[0m\n",
      "  deprecation(\n",
      "/home/marcello/github/AtariGym/env/lib/python3.8/site-packages/gym/utils/seeding.py:175: DeprecationWarning: \u001b[33mWARN: Function `_bigint_from_bytes(bytes)` is marked as deprecated and will be removed in the future. \u001b[0m\n",
      "  deprecation(\n",
      "2022-04-06 00:42:34.453197: E tensorflow/stream_executor/cuda/cuda_dnn.cc:373] Could not create cudnn handle: CUDNN_STATUS_NOT_INITIALIZED\n",
      "2022-04-06 00:42:34.453264: E tensorflow/stream_executor/cuda/cuda_dnn.cc:382] Possibly insufficient driver version: 510.47.3\n",
      "2022-04-06 00:42:34.453293: W tensorflow/core/framework/op_kernel.cc:1745] OP_REQUIRES failed at conv_ops.cc:1120 : UNIMPLEMENTED: DNN library is not found.\n"
     ]
    },
    {
     "ename": "UnimplementedError",
     "evalue": "Exception encountered when calling layer \"stem_conv\" (type Conv2D).\n\nDNN library is not found. [Op:Conv2D]\n\nCall arguments received:\n  • inputs=tf.Tensor(shape=(4, 211, 161, 3), dtype=float32)",
     "output_type": "error",
     "traceback": [
      "\u001b[0;31m---------------------------------------------------------------------------\u001b[0m",
      "\u001b[0;31mUnimplementedError\u001b[0m                        Traceback (most recent call last)",
      "\u001b[1;32m/home/marcello/github/AtariGym/main.ipynb Cell 3'\u001b[0m in \u001b[0;36m<cell line: 3>\u001b[0;34m()\u001b[0m\n\u001b[1;32m     <a href='vscode-notebook-cell:/home/marcello/github/AtariGym/main.ipynb#ch0000002?line=17'>18</a>\u001b[0m       k_reward \u001b[39m+\u001b[39m\u001b[39m=\u001b[39m reward\n\u001b[1;32m     <a href='vscode-notebook-cell:/home/marcello/github/AtariGym/main.ipynb#ch0000002?line=19'>20</a>\u001b[0m p_obs \u001b[39m=\u001b[39m preprocess_observation(obs)\n\u001b[0;32m---> <a href='vscode-notebook-cell:/home/marcello/github/AtariGym/main.ipynb#ch0000002?line=21'>22</a>\u001b[0m \u001b[39mprint\u001b[39m(model(obs))\n\u001b[1;32m     <a href='vscode-notebook-cell:/home/marcello/github/AtariGym/main.ipynb#ch0000002?line=22'>23</a>\u001b[0m \u001b[39m# print(action)\u001b[39;00m\n\u001b[1;32m     <a href='vscode-notebook-cell:/home/marcello/github/AtariGym/main.ipynb#ch0000002?line=24'>25</a>\u001b[0m observation, reward, done, info \u001b[39m=\u001b[39m env\u001b[39m.\u001b[39mstep(\u001b[39m0\u001b[39m)\n",
      "File \u001b[0;32m~/github/AtariGym/env/lib/python3.8/site-packages/keras/utils/traceback_utils.py:67\u001b[0m, in \u001b[0;36mfilter_traceback.<locals>.error_handler\u001b[0;34m(*args, **kwargs)\u001b[0m\n\u001b[1;32m     <a href='file:///home/marcello/github/AtariGym/env/lib/python3.8/site-packages/keras/utils/traceback_utils.py?line=64'>65</a>\u001b[0m \u001b[39mexcept\u001b[39;00m \u001b[39mException\u001b[39;00m \u001b[39mas\u001b[39;00m e:  \u001b[39m# pylint: disable=broad-except\u001b[39;00m\n\u001b[1;32m     <a href='file:///home/marcello/github/AtariGym/env/lib/python3.8/site-packages/keras/utils/traceback_utils.py?line=65'>66</a>\u001b[0m   filtered_tb \u001b[39m=\u001b[39m _process_traceback_frames(e\u001b[39m.\u001b[39m__traceback__)\n\u001b[0;32m---> <a href='file:///home/marcello/github/AtariGym/env/lib/python3.8/site-packages/keras/utils/traceback_utils.py?line=66'>67</a>\u001b[0m   \u001b[39mraise\u001b[39;00m e\u001b[39m.\u001b[39mwith_traceback(filtered_tb) \u001b[39mfrom\u001b[39;00m \u001b[39mNone\u001b[39m\n\u001b[1;32m     <a href='file:///home/marcello/github/AtariGym/env/lib/python3.8/site-packages/keras/utils/traceback_utils.py?line=67'>68</a>\u001b[0m \u001b[39mfinally\u001b[39;00m:\n\u001b[1;32m     <a href='file:///home/marcello/github/AtariGym/env/lib/python3.8/site-packages/keras/utils/traceback_utils.py?line=68'>69</a>\u001b[0m   \u001b[39mdel\u001b[39;00m filtered_tb\n",
      "File \u001b[0;32m~/github/AtariGym/env/lib/python3.8/site-packages/tensorflow/python/framework/ops.py:7186\u001b[0m, in \u001b[0;36mraise_from_not_ok_status\u001b[0;34m(e, name)\u001b[0m\n\u001b[1;32m   <a href='file:///home/marcello/github/AtariGym/env/lib/python3.8/site-packages/tensorflow/python/framework/ops.py?line=7183'>7184</a>\u001b[0m \u001b[39mdef\u001b[39;00m \u001b[39mraise_from_not_ok_status\u001b[39m(e, name):\n\u001b[1;32m   <a href='file:///home/marcello/github/AtariGym/env/lib/python3.8/site-packages/tensorflow/python/framework/ops.py?line=7184'>7185</a>\u001b[0m   e\u001b[39m.\u001b[39mmessage \u001b[39m+\u001b[39m\u001b[39m=\u001b[39m (\u001b[39m\"\u001b[39m\u001b[39m name: \u001b[39m\u001b[39m\"\u001b[39m \u001b[39m+\u001b[39m name \u001b[39mif\u001b[39;00m name \u001b[39mis\u001b[39;00m \u001b[39mnot\u001b[39;00m \u001b[39mNone\u001b[39;00m \u001b[39melse\u001b[39;00m \u001b[39m\"\u001b[39m\u001b[39m\"\u001b[39m)\n\u001b[0;32m-> <a href='file:///home/marcello/github/AtariGym/env/lib/python3.8/site-packages/tensorflow/python/framework/ops.py?line=7185'>7186</a>\u001b[0m   \u001b[39mraise\u001b[39;00m core\u001b[39m.\u001b[39m_status_to_exception(e) \u001b[39mfrom\u001b[39;00m \u001b[39mNone\u001b[39m\n",
      "\u001b[0;31mUnimplementedError\u001b[0m: Exception encountered when calling layer \"stem_conv\" (type Conv2D).\n\nDNN library is not found. [Op:Conv2D]\n\nCall arguments received:\n  • inputs=tf.Tensor(shape=(4, 211, 161, 3), dtype=float32)"
     ]
    }
   ],
   "source": [
    "obs = np.zeros([K_FRAMES, *SHAPE])\n",
    "\n",
    "for _ in range(int(1e6)):                           # n° of episodes\n",
    "\n",
    "      observation, info = env.reset(seed=42, return_info=True)\n",
    "      action = env.action_space.sample()\n",
    "\n",
    "      for _ in range(int(1e3)):                     # n° of frames per episode\n",
    "            \n",
    "            # legal_action_list = env.action_space\n",
    "            i = 0\n",
    "            k_reward = 0\n",
    "\n",
    "            while i < K_FRAMES and not done:\n",
    "                  observation, reward, done, info = env.step(action)\n",
    "                  obs[i] = observation\n",
    "                  i += 1\n",
    "                  k_reward += reward\n",
    "\n",
    "            p_obs = preprocess_observation(obs)\n",
    "\n",
    "            action = max(model(p_obs)) # CUDDN dio merda\n",
    "            print(action)\n",
    "\n",
    "            observation, reward, done, info = env.step(0)\n",
    "\n",
    "            if done:\n",
    "                observation, info = env.reset(return_info=True)\n",
    "            # break\n",
    "            break\n",
    "      break\n",
    "\n",
    "env.close()"
   ]
  }
 ],
 "metadata": {
  "kernelspec": {
   "display_name": "env",
   "language": "python",
   "name": "env"
  },
  "language_info": {
   "codemirror_mode": {
    "name": "ipython",
    "version": 3
   },
   "file_extension": ".py",
   "mimetype": "text/x-python",
   "name": "python",
   "nbconvert_exporter": "python",
   "pygments_lexer": "ipython3",
   "version": "3.8.10"
  },
  "orig_nbformat": 4
 },
 "nbformat": 4,
 "nbformat_minor": 2
}
