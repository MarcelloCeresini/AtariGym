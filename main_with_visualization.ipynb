{
 "cells": [
  {
   "cell_type": "code",
   "execution_count": 1,
   "metadata": {},
   "outputs": [],
   "source": [
    "from numpy_ringbuffer import RingBuffer\n",
    "\n",
    "REAPLAY_MEMORY_SIZE = 10000 # should be 1000000\n",
    "REPLAY_START_SIZE = 500 # should be 50000"
   ]
  },
  {
   "cell_type": "code",
   "execution_count": 2,
   "metadata": {},
   "outputs": [],
   "source": [
    "INIT_EPS = 1\n",
    "END_EPS = 0.1\n",
    "FINAL_EXPLORATION_FRAME = REAPLAY_MEMORY_SIZE\n",
    "\n",
    "DISCOUNT_FACTOR = 0.99"
   ]
  },
  {
   "cell_type": "code",
   "execution_count": 3,
   "metadata": {},
   "outputs": [
    {
     "name": "stderr",
     "output_type": "stream",
     "text": [
      "/home/marcello/github/AtariGym/env/lib/python3.8/site-packages/flatbuffers/compat.py:19: DeprecationWarning: the imp module is deprecated in favour of importlib; see the module's documentation for alternative uses\n",
      "  import imp\n",
      "/home/marcello/github/AtariGym/env/lib/python3.8/site-packages/keras_preprocessing/image/utils.py:23: DeprecationWarning: NEAREST is deprecated and will be removed in Pillow 10 (2023-07-01). Use Resampling.NEAREST or Dither.NONE instead.\n",
      "  'nearest': pil_image.NEAREST,\n",
      "/home/marcello/github/AtariGym/env/lib/python3.8/site-packages/keras_preprocessing/image/utils.py:24: DeprecationWarning: BILINEAR is deprecated and will be removed in Pillow 10 (2023-07-01). Use Resampling.BILINEAR instead.\n",
      "  'bilinear': pil_image.BILINEAR,\n",
      "/home/marcello/github/AtariGym/env/lib/python3.8/site-packages/keras_preprocessing/image/utils.py:25: DeprecationWarning: BICUBIC is deprecated and will be removed in Pillow 10 (2023-07-01). Use Resampling.BICUBIC instead.\n",
      "  'bicubic': pil_image.BICUBIC,\n",
      "/home/marcello/github/AtariGym/env/lib/python3.8/site-packages/keras_preprocessing/image/utils.py:28: DeprecationWarning: HAMMING is deprecated and will be removed in Pillow 10 (2023-07-01). Use Resampling.HAMMING instead.\n",
      "  if hasattr(pil_image, 'HAMMING'):\n",
      "/home/marcello/github/AtariGym/env/lib/python3.8/site-packages/keras_preprocessing/image/utils.py:30: DeprecationWarning: BOX is deprecated and will be removed in Pillow 10 (2023-07-01). Use Resampling.BOX instead.\n",
      "  if hasattr(pil_image, 'BOX'):\n",
      "/home/marcello/github/AtariGym/env/lib/python3.8/site-packages/keras_preprocessing/image/utils.py:33: DeprecationWarning: LANCZOS is deprecated and will be removed in Pillow 10 (2023-07-01). Use Resampling.LANCZOS instead.\n",
      "  if hasattr(pil_image, 'LANCZOS'):\n",
      "2022-04-07 14:30:34.131301: I tensorflow/stream_executor/cuda/cuda_gpu_executor.cc:936] successful NUMA node read from SysFS had negative value (-1), but there must be at least one NUMA node, so returning NUMA node zero\n",
      "2022-04-07 14:30:34.157128: I tensorflow/stream_executor/cuda/cuda_gpu_executor.cc:936] successful NUMA node read from SysFS had negative value (-1), but there must be at least one NUMA node, so returning NUMA node zero\n",
      "2022-04-07 14:30:34.157587: I tensorflow/stream_executor/cuda/cuda_gpu_executor.cc:936] successful NUMA node read from SysFS had negative value (-1), but there must be at least one NUMA node, so returning NUMA node zero\n",
      "A.L.E: Arcade Learning Environment (version 0.7.4+069f8bd)\n",
      "[Powered by Stella]\n",
      "/home/marcello/github/AtariGym/env/lib/python3.8/site-packages/gym/utils/seeding.py:138: DeprecationWarning: \u001b[33mWARN: Function `hash_seed(seed, max_bytes)` is marked as deprecated and will be removed in the future. \u001b[0m\n",
      "  deprecation(\n",
      "/home/marcello/github/AtariGym/env/lib/python3.8/site-packages/gym/utils/seeding.py:175: DeprecationWarning: \u001b[33mWARN: Function `_bigint_from_bytes(bytes)` is marked as deprecated and will be removed in the future. \u001b[0m\n",
      "  deprecation(\n",
      "/home/marcello/github/AtariGym/env/lib/python3.8/site-packages/keras/applications/efficientnet.py:288: UserWarning: This model usually expects 1 or 3 input channels. However, it was passed an input_shape with 12 input channels.\n",
      "  input_shape = imagenet_utils.obtain_input_shape(\n"
     ]
    },
    {
     "name": "stdout",
     "output_type": "stream",
     "text": [
      "PhysicalDevice(name='/physical_device:GPU:0', device_type='GPU')\n",
      "5\n"
     ]
    },
    {
     "name": "stderr",
     "output_type": "stream",
     "text": [
      "2022-04-07 14:30:34.278147: I tensorflow/core/platform/cpu_feature_guard.cc:151] This TensorFlow binary is optimized with oneAPI Deep Neural Network Library (oneDNN) to use the following CPU instructions in performance-critical operations:  AVX2 FMA\n",
      "To enable them in other operations, rebuild TensorFlow with the appropriate compiler flags.\n",
      "2022-04-07 14:30:34.279432: I tensorflow/stream_executor/cuda/cuda_gpu_executor.cc:936] successful NUMA node read from SysFS had negative value (-1), but there must be at least one NUMA node, so returning NUMA node zero\n",
      "2022-04-07 14:30:34.279754: I tensorflow/stream_executor/cuda/cuda_gpu_executor.cc:936] successful NUMA node read from SysFS had negative value (-1), but there must be at least one NUMA node, so returning NUMA node zero\n",
      "2022-04-07 14:30:34.279869: I tensorflow/stream_executor/cuda/cuda_gpu_executor.cc:936] successful NUMA node read from SysFS had negative value (-1), but there must be at least one NUMA node, so returning NUMA node zero\n",
      "2022-04-07 14:30:34.684809: I tensorflow/stream_executor/cuda/cuda_gpu_executor.cc:936] successful NUMA node read from SysFS had negative value (-1), but there must be at least one NUMA node, so returning NUMA node zero\n",
      "2022-04-07 14:30:34.684964: I tensorflow/stream_executor/cuda/cuda_gpu_executor.cc:936] successful NUMA node read from SysFS had negative value (-1), but there must be at least one NUMA node, so returning NUMA node zero\n",
      "2022-04-07 14:30:34.685076: I tensorflow/stream_executor/cuda/cuda_gpu_executor.cc:936] successful NUMA node read from SysFS had negative value (-1), but there must be at least one NUMA node, so returning NUMA node zero\n",
      "2022-04-07 14:30:34.685192: I tensorflow/core/common_runtime/gpu/gpu_device.cc:1525] Created device /job:localhost/replica:0/task:0/device:GPU:0 with 3817 MB memory:  -> device: 0, name: NVIDIA GeForce RTX 2060, pci bus id: 0000:01:00.0, compute capability: 7.5\n"
     ]
    },
    {
     "name": "stdout",
     "output_type": "stream",
     "text": [
      "4015264\n"
     ]
    }
   ],
   "source": [
    "import gym\n",
    "import numpy as np\n",
    "import tensorflow as tf\n",
    "from random import sample\n",
    "from tensorflow.keras import layers, Model\n",
    "from time import time\n",
    "from timeit import timeit\n",
    "from matplotlib import pyplot as plt\n",
    "from tqdm import tqdm\n",
    "\n",
    "import utils\n",
    "\n",
    "print(tf.config.list_physical_devices('GPU')[0])\n",
    "\n",
    "env = gym.make(\"ALE/Breakout-v5\")\n",
    "\n",
    "N_ACTIONS = env.action_space.n\n",
    "OBS_RANGE = int(env.observation_space.high_repr) - int(env.observation_space.low_repr)\n",
    "OBS_SHAPE = env.observation_space.shape\n",
    "# SKIP_FRAMES = [2, 3, 4] # possible addition --> skip randomly 2/3/4 frames instead of always 4\n",
    "N_INPUT_FRAMES = 4\n",
    "\n",
    "BATCH_SIZE = 32\n",
    "\n",
    "input_shape = [*OBS_SHAPE]\n",
    "input_shape[-1] *= N_INPUT_FRAMES\n",
    "\n",
    "experience_buffer = [\n",
    "    RingBuffer(capacity=REAPLAY_MEMORY_SIZE, dtype= (float, input_shape)),     # observation at time t\n",
    "    RingBuffer(capacity=REAPLAY_MEMORY_SIZE),                                   # action at time t\n",
    "    RingBuffer(capacity=REAPLAY_MEMORY_SIZE),                                   # reward at time t\n",
    "    RingBuffer(capacity=REAPLAY_MEMORY_SIZE, dtype= (float, input_shape)),     # observation at time t+1\n",
    "    RingBuffer(capacity=REAPLAY_MEMORY_SIZE)                                    # is done (for target computation)\n",
    "    ]\n",
    "\n",
    "print(len(experience_buffer))\n",
    "\n",
    "obs = np.zeros(input_shape)\n",
    "target = np.zeros(BATCH_SIZE)\n",
    "\n",
    "model = tf.keras.applications.efficientnet.EfficientNetB0(\n",
    "    include_top=True,\n",
    "    weights=None,\n",
    "    input_shape=input_shape,\n",
    "    classes=N_ACTIONS,\n",
    "    classifier_activation='softmax'\n",
    ")\n",
    "\n",
    "target_model = tf.keras.models.clone_model(model)\n",
    "# target_model_weights = model.save_weights(\"./target_model_weights\")\n",
    "TARGET_MODEL_UPDATE_FREQUENCY = 1000\n",
    "tr_weights = model.trainable_weights\n",
    "\n",
    "total_params = sum([np.prod(w.get_shape().as_list()) for w in tr_weights])\n",
    "print(total_params)\n",
    "\n",
    "opt = tf.keras.optimizers.Adam(learning_rate= 2e-4)\n"
   ]
  },
  {
   "cell_type": "code",
   "execution_count": 4,
   "metadata": {},
   "outputs": [],
   "source": [
    "def preprocess_observation(obs):\n",
    "    return obs / OBS_RANGE"
   ]
  },
  {
   "cell_type": "code",
   "execution_count": 5,
   "metadata": {},
   "outputs": [],
   "source": [
    "def simulate(env, action): # big but finite MDP\n",
    "    i = 0\n",
    "    k_reward = 0\n",
    "    done = 0\n",
    "\n",
    "    while i < N_INPUT_FRAMES and not done:\n",
    "\n",
    "        observation, reward, done, info = env.step(action)\n",
    "        obs[:, :, i:i+3] = observation # simply concatenate observations --> each is 3 channels deep\n",
    "        i += 1\n",
    "        k_reward += reward\n",
    "\n",
    "    p_obs = preprocess_observation(obs)\n",
    "    return p_obs, k_reward, done"
   ]
  },
  {
   "cell_type": "code",
   "execution_count": 6,
   "metadata": {},
   "outputs": [],
   "source": [
    "# @tf.function\n",
    "def process_gradient(g):\n",
    "    return tf.math.maximum(1., tf.math.minimum(-1., g))"
   ]
  },
  {
   "cell_type": "code",
   "execution_count": 7,
   "metadata": {},
   "outputs": [],
   "source": [
    "def add_to_buffer(buffer, tuple):\n",
    "    for i, elem in enumerate(tuple):\n",
    "        buffer[i].append(elem)\n",
    "\n",
    "RETURN_LIST = [ # initialization for faster processing\n",
    "    tf.Variable(tf.zeros(shape=(BATCH_SIZE, 210, 160, 12))),\n",
    "    tf.Variable(tf.zeros(shape=(BATCH_SIZE,))),\n",
    "    tf.Variable(tf.zeros(shape=(BATCH_SIZE,))),\n",
    "    tf.Variable(tf.zeros(shape=(BATCH_SIZE, 210, 160, 12))),\n",
    "    tf.Variable(tf.zeros(shape=(BATCH_SIZE,)))\n",
    "]\n",
    "\n",
    "def sample_from_buffer(buffer, sample_size):\n",
    "    idx = sample(range(len(buffer[0])), sample_size)\n",
    "    for i in range(len(buffer)):\n",
    "        RETURN_LIST[i]= tf.stack(buffer[i][idx])\n",
    "    # return [tf.stack(buffer[i][idx]) for i in range(sample_size)]\n",
    "    return RETURN_LIST"
   ]
  },
  {
   "cell_type": "code",
   "execution_count": 8,
   "metadata": {},
   "outputs": [
    {
     "name": "stderr",
     "output_type": "stream",
     "text": [
      "  0%|          | 500/1000000 [00:04<2:28:04, 112.50it/s]2022-04-07 14:30:42.414942: I tensorflow/stream_executor/cuda/cuda_dnn.cc:368] Loaded cuDNN version 8302\n",
      "  0%|          | 1000/1000000 [03:42<117:43:44,  2.36it/s]"
     ]
    },
    {
     "data": {
      "image/png": "[encoded data removed]",
      "text/plain": [
       "<Figure size 432x288 with 1 Axes>"
      ]
     },
     "metadata": {
      "needs_background": "light"
     },
     "output_type": "display_data"
    },
    {
     "name": "stdout",
     "output_type": "stream",
     "text": [
      "eps:  0.95509 mean episode frames:  35.714285714285715\n"
     ]
    },
    {
     "name": "stderr",
     "output_type": "stream",
     "text": [
      "  0%|          | 1501/1000000 [07:23<183:38:10,  1.51it/s]"
     ]
    },
    {
     "name": "stdout",
     "output_type": "stream",
     "text": [
      "Total frame 1500 updating weights\n"
     ]
    },
    {
     "name": "stderr",
     "output_type": "stream",
     "text": [
      "  0%|          | 2000/1000000 [11:01<116:02:33,  2.39it/s]"
     ]
    },
    {
     "data": {
      "image/png": "[encoded data removed]",
      "text/plain": [
       "<Figure size 432x288 with 1 Axes>"
      ]
     },
     "metadata": {
      "needs_background": "light"
     },
     "output_type": "display_data"
    },
    {
     "name": "stdout",
     "output_type": "stream",
     "text": [
      "eps:  0.8650899999999999 mean episode frames:  34.48275862068966\n"
     ]
    },
    {
     "name": "stderr",
     "output_type": "stream",
     "text": [
      "  0%|          | 2501/1000000 [14:44<180:31:54,  1.53it/s]"
     ]
    },
    {
     "name": "stdout",
     "output_type": "stream",
     "text": [
      "Total frame 2500 updating weights\n"
     ]
    },
    {
     "name": "stderr",
     "output_type": "stream",
     "text": [
      "  0%|          | 3000/1000000 [18:25<122:57:28,  2.25it/s]"
     ]
    },
    {
     "data": {
      "image/png": "[encoded data removed]",
      "text/plain": [
       "<Figure size 432x288 with 1 Axes>"
      ]
     },
     "metadata": {
      "needs_background": "light"
     },
     "output_type": "display_data"
    },
    {
     "name": "stdout",
     "output_type": "stream",
     "text": [
      "eps:  0.77509 mean episode frames:  34.09090909090909\n"
     ]
    },
    {
     "name": "stderr",
     "output_type": "stream",
     "text": [
      "  0%|          | 3065/1000000 [18:53<137:04:50,  2.02it/s]"
     ]
    },
    {
     "ename": "KeyboardInterrupt",
     "evalue": "",
     "output_type": "error",
     "traceback": [
      "\u001b[0;31m---------------------------------------------------------------------------\u001b[0m",
      "\u001b[0;31mKeyboardInterrupt\u001b[0m                         Traceback (most recent call last)",
      "\u001b[1;32m/home/marcello/github/AtariGym/main.ipynb Cell 8'\u001b[0m in \u001b[0;36m<cell line: 25>\u001b[0;34m()\u001b[0m\n\u001b[1;32m    <a href='vscode-notebook-cell:/home/marcello/github/AtariGym/main.ipynb#ch0000006?line=126'>127</a>\u001b[0m times[\u001b[39m\"\u001b[39m\u001b[39mgradient preprocessing\u001b[39m\u001b[39m\"\u001b[39m]\u001b[39m.\u001b[39mappend(time()\u001b[39m-\u001b[39mt)\n\u001b[1;32m    <a href='vscode-notebook-cell:/home/marcello/github/AtariGym/main.ipynb#ch0000006?line=128'>129</a>\u001b[0m t \u001b[39m=\u001b[39m time()\n\u001b[0;32m--> <a href='vscode-notebook-cell:/home/marcello/github/AtariGym/main.ipynb#ch0000006?line=129'>130</a>\u001b[0m opt\u001b[39m.\u001b[39;49mapply_gradients(\u001b[39mzip\u001b[39;49m(processed_grads, tr_weights))\n\u001b[1;32m    <a href='vscode-notebook-cell:/home/marcello/github/AtariGym/main.ipynb#ch0000006?line=130'>131</a>\u001b[0m times[\u001b[39m\"\u001b[39m\u001b[39mgradient application\u001b[39m\u001b[39m\"\u001b[39m]\u001b[39m.\u001b[39mappend(time()\u001b[39m-\u001b[39mt)\n\u001b[1;32m    <a href='vscode-notebook-cell:/home/marcello/github/AtariGym/main.ipynb#ch0000006?line=132'>133</a>\u001b[0m \u001b[39mif\u001b[39;00m target_model_update_frames \u001b[39m==\u001b[39m TARGET_MODEL_UPDATE_FREQUENCY:\n",
      "File \u001b[0;32m~/github/AtariGym/env/lib/python3.8/site-packages/keras/optimizer_v2/optimizer_v2.py:671\u001b[0m, in \u001b[0;36mOptimizerV2.apply_gradients\u001b[0;34m(self, grads_and_vars, name, experimental_aggregate_gradients)\u001b[0m\n\u001b[1;32m    <a href='file:///home/marcello/github/AtariGym/env/lib/python3.8/site-packages/keras/optimizer_v2/optimizer_v2.py?line=667'>668</a>\u001b[0m   grads_and_vars \u001b[39m=\u001b[39m \u001b[39mself\u001b[39m\u001b[39m.\u001b[39m_aggregate_gradients(grads_and_vars)\n\u001b[1;32m    <a href='file:///home/marcello/github/AtariGym/env/lib/python3.8/site-packages/keras/optimizer_v2/optimizer_v2.py?line=668'>669</a>\u001b[0m grads_and_vars \u001b[39m=\u001b[39m \u001b[39mself\u001b[39m\u001b[39m.\u001b[39m_transform_gradients(grads_and_vars)\n\u001b[0;32m--> <a href='file:///home/marcello/github/AtariGym/env/lib/python3.8/site-packages/keras/optimizer_v2/optimizer_v2.py?line=670'>671</a>\u001b[0m \u001b[39mreturn\u001b[39;00m tf\u001b[39m.\u001b[39;49m__internal__\u001b[39m.\u001b[39;49mdistribute\u001b[39m.\u001b[39;49minterim\u001b[39m.\u001b[39;49mmaybe_merge_call(\n\u001b[1;32m    <a href='file:///home/marcello/github/AtariGym/env/lib/python3.8/site-packages/keras/optimizer_v2/optimizer_v2.py?line=671'>672</a>\u001b[0m     functools\u001b[39m.\u001b[39;49mpartial(\u001b[39mself\u001b[39;49m\u001b[39m.\u001b[39;49m_distributed_apply, apply_state\u001b[39m=\u001b[39;49mapply_state),\n\u001b[1;32m    <a href='file:///home/marcello/github/AtariGym/env/lib/python3.8/site-packages/keras/optimizer_v2/optimizer_v2.py?line=672'>673</a>\u001b[0m     strategy,\n\u001b[1;32m    <a href='file:///home/marcello/github/AtariGym/env/lib/python3.8/site-packages/keras/optimizer_v2/optimizer_v2.py?line=673'>674</a>\u001b[0m     grads_and_vars,\n\u001b[1;32m    <a href='file:///home/marcello/github/AtariGym/env/lib/python3.8/site-packages/keras/optimizer_v2/optimizer_v2.py?line=674'>675</a>\u001b[0m     name\u001b[39m=\u001b[39;49mname)\n",
      "File \u001b[0;32m~/github/AtariGym/env/lib/python3.8/site-packages/tensorflow/python/distribute/merge_call_interim.py:51\u001b[0m, in \u001b[0;36mmaybe_merge_call\u001b[0;34m(fn, strategy, *args, **kwargs)\u001b[0m\n\u001b[1;32m     <a href='file:///home/marcello/github/AtariGym/env/lib/python3.8/site-packages/tensorflow/python/distribute/merge_call_interim.py?line=30'>31</a>\u001b[0m \u001b[39m\"\"\"Maybe invoke `fn` via `merge_call` which may or may not be fulfilled.\u001b[39;00m\n\u001b[1;32m     <a href='file:///home/marcello/github/AtariGym/env/lib/python3.8/site-packages/tensorflow/python/distribute/merge_call_interim.py?line=31'>32</a>\u001b[0m \n\u001b[1;32m     <a href='file:///home/marcello/github/AtariGym/env/lib/python3.8/site-packages/tensorflow/python/distribute/merge_call_interim.py?line=32'>33</a>\u001b[0m \u001b[39mThe caller of this utility function requests to invoke `fn` via `merge_call`\u001b[39;00m\n\u001b[0;32m   (...)\u001b[0m\n\u001b[1;32m     <a href='file:///home/marcello/github/AtariGym/env/lib/python3.8/site-packages/tensorflow/python/distribute/merge_call_interim.py?line=47'>48</a>\u001b[0m \u001b[39m  The return value of the `fn` call.\u001b[39;00m\n\u001b[1;32m     <a href='file:///home/marcello/github/AtariGym/env/lib/python3.8/site-packages/tensorflow/python/distribute/merge_call_interim.py?line=48'>49</a>\u001b[0m \u001b[39m\"\"\"\u001b[39;00m\n\u001b[1;32m     <a href='file:///home/marcello/github/AtariGym/env/lib/python3.8/site-packages/tensorflow/python/distribute/merge_call_interim.py?line=49'>50</a>\u001b[0m \u001b[39mif\u001b[39;00m strategy_supports_no_merge_call():\n\u001b[0;32m---> <a href='file:///home/marcello/github/AtariGym/env/lib/python3.8/site-packages/tensorflow/python/distribute/merge_call_interim.py?line=50'>51</a>\u001b[0m   \u001b[39mreturn\u001b[39;00m fn(strategy, \u001b[39m*\u001b[39;49margs, \u001b[39m*\u001b[39;49m\u001b[39m*\u001b[39;49mkwargs)\n\u001b[1;32m     <a href='file:///home/marcello/github/AtariGym/env/lib/python3.8/site-packages/tensorflow/python/distribute/merge_call_interim.py?line=51'>52</a>\u001b[0m \u001b[39melse\u001b[39;00m:\n\u001b[1;32m     <a href='file:///home/marcello/github/AtariGym/env/lib/python3.8/site-packages/tensorflow/python/distribute/merge_call_interim.py?line=52'>53</a>\u001b[0m   \u001b[39mreturn\u001b[39;00m distribution_strategy_context\u001b[39m.\u001b[39mget_replica_context()\u001b[39m.\u001b[39mmerge_call(\n\u001b[1;32m     <a href='file:///home/marcello/github/AtariGym/env/lib/python3.8/site-packages/tensorflow/python/distribute/merge_call_interim.py?line=53'>54</a>\u001b[0m       fn, args\u001b[39m=\u001b[39margs, kwargs\u001b[39m=\u001b[39mkwargs)\n",
      "File \u001b[0;32m~/github/AtariGym/env/lib/python3.8/site-packages/keras/optimizer_v2/optimizer_v2.py:716\u001b[0m, in \u001b[0;36mOptimizerV2._distributed_apply\u001b[0;34m(self, distribution, grads_and_vars, apply_state, name)\u001b[0m\n\u001b[1;32m    <a href='file:///home/marcello/github/AtariGym/env/lib/python3.8/site-packages/keras/optimizer_v2/optimizer_v2.py?line=711'>712</a>\u001b[0m \u001b[39mwith\u001b[39;00m distribution\u001b[39m.\u001b[39mextended\u001b[39m.\u001b[39mcolocate_vars_with(var):\n\u001b[1;32m    <a href='file:///home/marcello/github/AtariGym/env/lib/python3.8/site-packages/keras/optimizer_v2/optimizer_v2.py?line=712'>713</a>\u001b[0m   \u001b[39mwith\u001b[39;00m name_scope_only_in_function_or_graph(\n\u001b[1;32m    <a href='file:///home/marcello/github/AtariGym/env/lib/python3.8/site-packages/keras/optimizer_v2/optimizer_v2.py?line=713'>714</a>\u001b[0m       \u001b[39m\"\u001b[39m\u001b[39mupdate\u001b[39m\u001b[39m\"\u001b[39m \u001b[39mif\u001b[39;00m eagerly_outside_functions \u001b[39melse\u001b[39;00m \u001b[39m\"\u001b[39m\u001b[39mupdate_\u001b[39m\u001b[39m\"\u001b[39m \u001b[39m+\u001b[39m\n\u001b[1;32m    <a href='file:///home/marcello/github/AtariGym/env/lib/python3.8/site-packages/keras/optimizer_v2/optimizer_v2.py?line=714'>715</a>\u001b[0m       var\u001b[39m.\u001b[39mop\u001b[39m.\u001b[39mname):\n\u001b[0;32m--> <a href='file:///home/marcello/github/AtariGym/env/lib/python3.8/site-packages/keras/optimizer_v2/optimizer_v2.py?line=715'>716</a>\u001b[0m     update_op \u001b[39m=\u001b[39m distribution\u001b[39m.\u001b[39;49mextended\u001b[39m.\u001b[39;49mupdate(\n\u001b[1;32m    <a href='file:///home/marcello/github/AtariGym/env/lib/python3.8/site-packages/keras/optimizer_v2/optimizer_v2.py?line=716'>717</a>\u001b[0m         var, apply_grad_to_update_var, args\u001b[39m=\u001b[39;49m(grad,), group\u001b[39m=\u001b[39;49m\u001b[39mFalse\u001b[39;49;00m)\n\u001b[1;32m    <a href='file:///home/marcello/github/AtariGym/env/lib/python3.8/site-packages/keras/optimizer_v2/optimizer_v2.py?line=717'>718</a>\u001b[0m     \u001b[39mif\u001b[39;00m tf\u001b[39m.\u001b[39mdistribute\u001b[39m.\u001b[39min_cross_replica_context():\n\u001b[1;32m    <a href='file:///home/marcello/github/AtariGym/env/lib/python3.8/site-packages/keras/optimizer_v2/optimizer_v2.py?line=718'>719</a>\u001b[0m       \u001b[39m# In cross-replica context, extended.update returns a list of\u001b[39;00m\n\u001b[1;32m    <a href='file:///home/marcello/github/AtariGym/env/lib/python3.8/site-packages/keras/optimizer_v2/optimizer_v2.py?line=719'>720</a>\u001b[0m       \u001b[39m# update ops from all replicas (group=False).\u001b[39;00m\n\u001b[1;32m    <a href='file:///home/marcello/github/AtariGym/env/lib/python3.8/site-packages/keras/optimizer_v2/optimizer_v2.py?line=720'>721</a>\u001b[0m       update_ops\u001b[39m.\u001b[39mextend(update_op)\n",
      "File \u001b[0;32m~/github/AtariGym/env/lib/python3.8/site-packages/tensorflow/python/distribute/distribute_lib.py:2629\u001b[0m, in \u001b[0;36mStrategyExtendedV2.update\u001b[0;34m(self, var, fn, args, kwargs, group)\u001b[0m\n\u001b[1;32m   <a href='file:///home/marcello/github/AtariGym/env/lib/python3.8/site-packages/tensorflow/python/distribute/distribute_lib.py?line=2624'>2625</a>\u001b[0m \u001b[39mif\u001b[39;00m (replica_context \u001b[39mis\u001b[39;00m \u001b[39mNone\u001b[39;00m \u001b[39mor\u001b[39;00m replica_context \u001b[39mis\u001b[39;00m\n\u001b[1;32m   <a href='file:///home/marcello/github/AtariGym/env/lib/python3.8/site-packages/tensorflow/python/distribute/distribute_lib.py?line=2625'>2626</a>\u001b[0m     distribution_strategy_context\u001b[39m.\u001b[39m_get_default_replica_context()):\n\u001b[1;32m   <a href='file:///home/marcello/github/AtariGym/env/lib/python3.8/site-packages/tensorflow/python/distribute/distribute_lib.py?line=2626'>2627</a>\u001b[0m   fn \u001b[39m=\u001b[39m autograph\u001b[39m.\u001b[39mtf_convert(\n\u001b[1;32m   <a href='file:///home/marcello/github/AtariGym/env/lib/python3.8/site-packages/tensorflow/python/distribute/distribute_lib.py?line=2627'>2628</a>\u001b[0m       fn, autograph_ctx\u001b[39m.\u001b[39mcontrol_status_ctx(), convert_by_default\u001b[39m=\u001b[39m\u001b[39mFalse\u001b[39;00m)\n\u001b[0;32m-> <a href='file:///home/marcello/github/AtariGym/env/lib/python3.8/site-packages/tensorflow/python/distribute/distribute_lib.py?line=2628'>2629</a>\u001b[0m   \u001b[39mwith\u001b[39;00m \u001b[39mself\u001b[39m\u001b[39m.\u001b[39m_container_strategy()\u001b[39m.\u001b[39mscope():\n\u001b[1;32m   <a href='file:///home/marcello/github/AtariGym/env/lib/python3.8/site-packages/tensorflow/python/distribute/distribute_lib.py?line=2629'>2630</a>\u001b[0m     \u001b[39mreturn\u001b[39;00m \u001b[39mself\u001b[39m\u001b[39m.\u001b[39m_update(var, fn, args, kwargs, group)\n\u001b[1;32m   <a href='file:///home/marcello/github/AtariGym/env/lib/python3.8/site-packages/tensorflow/python/distribute/distribute_lib.py?line=2630'>2631</a>\u001b[0m \u001b[39melse\u001b[39;00m:\n",
      "File \u001b[0;32m~/github/AtariGym/env/lib/python3.8/site-packages/tensorflow/python/distribute/distribute_lib.py:3610\u001b[0m, in \u001b[0;36m_DefaultDistributionContext.__enter__\u001b[0;34m(self)\u001b[0m\n\u001b[1;32m   <a href='file:///home/marcello/github/AtariGym/env/lib/python3.8/site-packages/tensorflow/python/distribute/distribute_lib.py?line=3606'>3607</a>\u001b[0m   \u001b[39mself\u001b[39m\u001b[39m.\u001b[39m_strategy \u001b[39m=\u001b[39m strategy\n\u001b[1;32m   <a href='file:///home/marcello/github/AtariGym/env/lib/python3.8/site-packages/tensorflow/python/distribute/distribute_lib.py?line=3607'>3608</a>\u001b[0m   \u001b[39mself\u001b[39m\u001b[39m.\u001b[39m_nested_count \u001b[39m=\u001b[39m \u001b[39m0\u001b[39m\n\u001b[0;32m-> <a href='file:///home/marcello/github/AtariGym/env/lib/python3.8/site-packages/tensorflow/python/distribute/distribute_lib.py?line=3609'>3610</a>\u001b[0m \u001b[39mdef\u001b[39;00m \u001b[39m__enter__\u001b[39m(\u001b[39mself\u001b[39m):\n\u001b[1;32m   <a href='file:///home/marcello/github/AtariGym/env/lib/python3.8/site-packages/tensorflow/python/distribute/distribute_lib.py?line=3610'>3611</a>\u001b[0m   \u001b[39m# Allow this scope to be entered if this strategy is already in scope.\u001b[39;00m\n\u001b[1;32m   <a href='file:///home/marcello/github/AtariGym/env/lib/python3.8/site-packages/tensorflow/python/distribute/distribute_lib.py?line=3611'>3612</a>\u001b[0m   \u001b[39mif\u001b[39;00m distribution_strategy_context\u001b[39m.\u001b[39mhas_strategy():\n\u001b[1;32m   <a href='file:///home/marcello/github/AtariGym/env/lib/python3.8/site-packages/tensorflow/python/distribute/distribute_lib.py?line=3612'>3613</a>\u001b[0m     \u001b[39mraise\u001b[39;00m \u001b[39mRuntimeError\u001b[39;00m(\u001b[39m\"\u001b[39m\u001b[39mMust not nest tf.distribute.Strategy scopes.\u001b[39m\u001b[39m\"\u001b[39m)\n",
      "\u001b[0;31mKeyboardInterrupt\u001b[0m: "
     ]
    }
   ],
   "source": [
    "times = {\n",
    "      \"total time\": [],\n",
    "      \"step in simulation\": [],\n",
    "      \"action selection\": [],\n",
    "      \"simulation for 4 frames\": [],\n",
    "      \"sampling from buffer + vector creation\": [],\n",
    "      \"q_values\": [],\n",
    "      \"masking\": [],\n",
    "      \"adding reward and q_values\": [],\n",
    "      \"taping loss\": [],\n",
    "      \"gradient calculation\": [],\n",
    "      \"gradient preprocessing\": [],\n",
    "      \"gradient application\": []\n",
    "}\n",
    "MAX_TOTAL_FRAMES = int(1e6)\n",
    "total_frames = 0\n",
    "target_model_update_frames = 0\n",
    "pbar = tqdm(total = MAX_TOTAL_FRAMES)\n",
    "\n",
    "episode_frame_counter = 0\n",
    "n_episodes = 0\n",
    "\n",
    "observation, info = env.reset(seed=42, return_info=True)\n",
    "\n",
    "while total_frames < MAX_TOTAL_FRAMES:  # episodes\n",
    "      \n",
    "      action = env.action_space.sample() # how do you solve the first frame? which action do you choose? (since the obs are 4 frames concat)\n",
    "      \n",
    "      n_episodes += 1\n",
    "      episode_frame_counter = 0\n",
    "      while episode_frame_counter < 1000: # max n° of frames per episode\n",
    "\n",
    "            episode_frame_counter += 1\n",
    "            total_frames += 1\n",
    "            pbar.update(1)\n",
    "\n",
    "            if total_frames%1000 == 0:\n",
    "                  plt.xticks(rotation=\"vertical\")\n",
    "                  plt.bar(times.keys(), [sum(x)/len(x) if len(x)!=0 else 0 for x in times.values()])\n",
    "                  plt.show()\n",
    "                  print(\"eps: \", eps, \"mean episode frames: \", total_frames/n_episodes)\n",
    "                  \n",
    "\n",
    "            obs, reward, done = simulate(env, action) # to create the starting point for the episode (first observation is 4 frames)\n",
    "            p_obs = preprocess_observation(obs)\n",
    "            \n",
    "            if total_frames < REPLAY_START_SIZE:\n",
    "                  # random sampling the first \"REPLAY_START_SIZE\" steps\n",
    "                  action = env.action_space.sample()\n",
    "                  next_p_obs, reward, is_end_state = simulate(env, action)\n",
    "                  add_to_buffer(experience_buffer, (p_obs, action, reward, next_p_obs, is_end_state))\n",
    "\n",
    "            else:\n",
    "                  total_time = time()\n",
    "                  eps = utils.calculate_eps(total_frames, REPLAY_START_SIZE, FINAL_EXPLORATION_FRAME, INIT_EPS, END_EPS)\n",
    "                  # policy\n",
    "                  \n",
    "                  t = time()\n",
    "                  action = utils.eps_greedy_policy(eps, env, model, p_obs)\n",
    "                  times[\"action selection\"].append(time()-t)\n",
    "\n",
    "                  # next observation\n",
    "                  t = time()\n",
    "                  next_p_obs, reward, is_end_state = simulate(env, action)\n",
    "                  times[\"simulation for 4 frames\"].append(time()-t)\n",
    "\n",
    "                  # append observation, action, reward, next_observation and \"done\" into the experience buffer\n",
    "                  add_to_buffer(experience_buffer, (p_obs, action, reward, next_p_obs, is_end_state)) # RingBuffer automatically pops from opposite side if maxlen is surpassed\n",
    "\n",
    "                  # sample BATCH_SIZE elements from the buffer\n",
    "                  t = time()\n",
    "                  batched_old_observation, batched_action, batched_reward, batched_new_observation, batched_done = sample_from_buffer(experience_buffer, BATCH_SIZE) # for the training instead batch is 32\n",
    "                  times[\"sampling from buffer + vector creation\"].append(time()-t)\n",
    "\n",
    "                  ### SHOULD be faster but isn't\n",
    "                  # t = time()\n",
    "                  # batched_new_observation_not_done = tf.boolean_mask(batched_new_observation, tf.math.logical_not(batched_done))\n",
    "                  # t1 = time()\n",
    "                  # batch_q_values_not_done = tf.math.reduce_max(target_model(batched_new_observation_not_done), axis=1)\n",
    "                  # t2 = time() - t1\n",
    "                  # batch_q_values = tf.stack([q_value if not transition[4] else 0 for transition, q_value in zip(transition_batch, batch_q_values_not_done.numpy())])\n",
    "                  # print(\"new method: \", time()-t)\n",
    "                  # print(\"target model with batch: \", batched_new_observation_not_done.shape, \"time\", t2)\n",
    "\n",
    "                  # compute the max q_values for all new_observations\n",
    "                  t = time()\n",
    "                  batch_q_values = tf.math.reduce_max(target_model(batched_new_observation), axis=1)\n",
    "                  times[\"q_values\"].append(time()-t)\n",
    "\n",
    "                  t= time()\n",
    "                  # select only the ones in which the model is not in its final state, because the value of the final state's target is simply the final reward\n",
    "                  masked_batch_q_values = tf.multiply(tf.multiply(batch_q_values, tf.cast(batched_done, tf.float32)), DISCOUNT_FACTOR)\n",
    "                  times[\"masking\"].append(time()-t)\n",
    "\n",
    "                  t = time()\n",
    "                  # compute the target for each transition: reward + possibly the max q_value\n",
    "                  target = tf.math.add(masked_batch_q_values, tf.cast(batched_reward, tf.float32))\n",
    "                  # now let's train the network: we need to update the weights\n",
    "                  times[\"adding reward and q_values\"].append(time()-t)\n",
    "\n",
    "                  t = time()\n",
    "                  with tf.GradientTape() as tape:\n",
    "                        # tape.watch(model.tr_w)\n",
    "                        # the loss function is simply MSE\n",
    "                        # loss = tf.keras.losses.MeanSquaredError(\n",
    "                        #       target, \n",
    "                        #       tf.math.reduce_max( model(batched_old_observation), axis=1 )\n",
    "                        # )\n",
    "\n",
    "                        loss = tf.math.reduce_sum(\n",
    "                              tf.math.square( \n",
    "                                    tf.subtract(\n",
    "                                          target, \n",
    "                                          tf.math.reduce_max( model(batched_old_observation), axis=1 )\n",
    "                                    )  \n",
    "                              )\n",
    "                        )\n",
    "                  times[\"taping loss\"].append(time()-t)\n",
    "\n",
    "                  t = time()\n",
    "                  grads = tape.gradient(loss, tr_weights)\n",
    "                  times[\"gradient calculation\"].append(time()-t)\n",
    "\n",
    "                  t = time()\n",
    "                  # clip the gradients in [-1;+1]\n",
    "                  processed_grads = [process_gradient(g) for g in grads]\n",
    "                  times[\"gradient preprocessing\"].append(time()-t)\n",
    "\n",
    "                  t = time()\n",
    "                  opt.apply_gradients(zip(processed_grads, tr_weights))\n",
    "                  times[\"gradient application\"].append(time()-t)\n",
    "\n",
    "                  if target_model_update_frames == TARGET_MODEL_UPDATE_FREQUENCY:\n",
    "                        target_model_update_frames = 0\n",
    "                        model.save_weights(\"./weights/update_weights\")\n",
    "                        target_model.load_weights(\"./weights/update_weights\")\n",
    "                        print(\"Total frame\", total_frames, \"updating weights\")\n",
    "                  target_model_update_frames += 1\n",
    "\n",
    "                  times[\"total time\"].append(time()-total_time)\n",
    "\n",
    "            if is_end_state:\n",
    "                 observation, info = env.reset(return_info=True)\n",
    "                 break\n",
    "\n",
    "      if episode_frame_counter >= 1000:\n",
    "            observation, info = env.reset(return_info=True)\n",
    "            print(\"episode too long!\")\n",
    "env.close()"
   ]
  }
 ],
 "metadata": {
  "kernelspec": {
   "display_name": "env",
   "language": "python",
   "name": "env"
  },
  "language_info": {
   "codemirror_mode": {
    "name": "ipython",
    "version": 3
   },
   "file_extension": ".py",
   "mimetype": "text/x-python",
   "name": "python",
   "nbconvert_exporter": "python",
   "pygments_lexer": "ipython3",
   "version": "3.8.10"
  },
  "orig_nbformat": 4
 },
 "nbformat": 4,
 "nbformat_minor": 2
}
